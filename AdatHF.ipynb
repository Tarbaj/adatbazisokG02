{
    "metadata": {
        "kernelspec": {
            "name": "SQL",
            "display_name": "SQL",
            "language": "sql"
        },
        "language_info": {
            "name": "sql",
            "version": ""
        }
    },
    "nbformat_minor": 2,
    "nbformat": 4,
    "cells": [
        {
            "cell_type": "markdown",
            "source": [
                "<span style=\"color: var(--vscode-foreground);\">Webshop adatbázis, Termek tábla</span>\n",
                "\n",
                "<span style=\"color: var(--vscode-foreground);\">1. lekérdezés:</span>"
            ],
            "metadata": {
                "azdata_cell_guid": "f65a5895-d262-4c65-998d-40af99117c52"
            },
            "attachments": {}
        },
        {
            "cell_type": "code",
            "source": [
                "SELECT LEN(MEGNEVEZES) AS 'Névhossz',\r\n",
                "       COUNT(*) AS 'Darabszám'\r\n",
                "FROM Termek\r\n",
                "GROUP BY LEN(MEGNEVEZES)\r\n",
                "ORDER BY LEN(MEGNEVEZES) ASC"
            ],
            "metadata": {
                "azdata_cell_guid": "4c011387-479f-4807-a64d-f9c1dfed5da0",
                "language": "sql",
                "tags": []
            },
            "outputs": [
                {
                    "output_type": "display_data",
                    "data": {
                        "text/html": "(33 rows affected)"
                    },
                    "metadata": {}
                },
                {
                    "output_type": "display_data",
                    "data": {
                        "text/html": "Total execution time: 00:00:00.027"
                    },
                    "metadata": {}
                },
                {
                    "output_type": "execute_result",
                    "metadata": {},
                    "execution_count": 27,
                    "data": {
                        "application/vnd.dataresource+json": {
                            "schema": {
                                "fields": [
                                    {
                                        "name": "Névhossz"
                                    },
                                    {
                                        "name": "Darabszám"
                                    }
                                ]
                            },
                            "data": [
                                {
                                    "Névhossz": "3",
                                    "Darabszám": "2"
                                },
                                {
                                    "Névhossz": "5",
                                    "Darabszám": "2"
                                },
                                {
                                    "Névhossz": "6",
                                    "Darabszám": "1"
                                },
                                {
                                    "Névhossz": "7",
                                    "Darabszám": "2"
                                },
                                {
                                    "Névhossz": "8",
                                    "Darabszám": "5"
                                },
                                {
                                    "Névhossz": "9",
                                    "Darabszám": "8"
                                },
                                {
                                    "Névhossz": "10",
                                    "Darabszám": "15"
                                },
                                {
                                    "Névhossz": "11",
                                    "Darabszám": "18"
                                },
                                {
                                    "Névhossz": "12",
                                    "Darabszám": "23"
                                },
                                {
                                    "Névhossz": "13",
                                    "Darabszám": "30"
                                },
                                {
                                    "Névhossz": "14",
                                    "Darabszám": "35"
                                },
                                {
                                    "Névhossz": "15",
                                    "Darabszám": "32"
                                },
                                {
                                    "Névhossz": "16",
                                    "Darabszám": "42"
                                },
                                {
                                    "Névhossz": "17",
                                    "Darabszám": "32"
                                },
                                {
                                    "Névhossz": "18",
                                    "Darabszám": "38"
                                },
                                {
                                    "Névhossz": "19",
                                    "Darabszám": "37"
                                },
                                {
                                    "Névhossz": "20",
                                    "Darabszám": "35"
                                },
                                {
                                    "Névhossz": "21",
                                    "Darabszám": "37"
                                },
                                {
                                    "Névhossz": "22",
                                    "Darabszám": "26"
                                },
                                {
                                    "Névhossz": "23",
                                    "Darabszám": "20"
                                },
                                {
                                    "Névhossz": "24",
                                    "Darabszám": "29"
                                },
                                {
                                    "Névhossz": "25",
                                    "Darabszám": "16"
                                },
                                {
                                    "Névhossz": "26",
                                    "Darabszám": "12"
                                },
                                {
                                    "Névhossz": "27",
                                    "Darabszám": "10"
                                },
                                {
                                    "Névhossz": "28",
                                    "Darabszám": "8"
                                },
                                {
                                    "Névhossz": "29",
                                    "Darabszám": "11"
                                },
                                {
                                    "Névhossz": "30",
                                    "Darabszám": "11"
                                },
                                {
                                    "Névhossz": "31",
                                    "Darabszám": "5"
                                },
                                {
                                    "Névhossz": "32",
                                    "Darabszám": "1"
                                },
                                {
                                    "Névhossz": "33",
                                    "Darabszám": "2"
                                },
                                {
                                    "Névhossz": "36",
                                    "Darabszám": "2"
                                },
                                {
                                    "Névhossz": "39",
                                    "Darabszám": "2"
                                },
                                {
                                    "Névhossz": "40",
                                    "Darabszám": "2"
                                }
                            ]
                        },
                        "text/html": [
                            "<table>",
                            "<tr><th>Névhossz</th><th>Darabszám</th></tr>",
                            "<tr><td>3</td><td>2</td></tr>",
                            "<tr><td>5</td><td>2</td></tr>",
                            "<tr><td>6</td><td>1</td></tr>",
                            "<tr><td>7</td><td>2</td></tr>",
                            "<tr><td>8</td><td>5</td></tr>",
                            "<tr><td>9</td><td>8</td></tr>",
                            "<tr><td>10</td><td>15</td></tr>",
                            "<tr><td>11</td><td>18</td></tr>",
                            "<tr><td>12</td><td>23</td></tr>",
                            "<tr><td>13</td><td>30</td></tr>",
                            "<tr><td>14</td><td>35</td></tr>",
                            "<tr><td>15</td><td>32</td></tr>",
                            "<tr><td>16</td><td>42</td></tr>",
                            "<tr><td>17</td><td>32</td></tr>",
                            "<tr><td>18</td><td>38</td></tr>",
                            "<tr><td>19</td><td>37</td></tr>",
                            "<tr><td>20</td><td>35</td></tr>",
                            "<tr><td>21</td><td>37</td></tr>",
                            "<tr><td>22</td><td>26</td></tr>",
                            "<tr><td>23</td><td>20</td></tr>",
                            "<tr><td>24</td><td>29</td></tr>",
                            "<tr><td>25</td><td>16</td></tr>",
                            "<tr><td>26</td><td>12</td></tr>",
                            "<tr><td>27</td><td>10</td></tr>",
                            "<tr><td>28</td><td>8</td></tr>",
                            "<tr><td>29</td><td>11</td></tr>",
                            "<tr><td>30</td><td>11</td></tr>",
                            "<tr><td>31</td><td>5</td></tr>",
                            "<tr><td>32</td><td>1</td></tr>",
                            "<tr><td>33</td><td>2</td></tr>",
                            "<tr><td>36</td><td>2</td></tr>",
                            "<tr><td>39</td><td>2</td></tr>",
                            "<tr><td>40</td><td>2</td></tr>",
                            "</table>"
                        ]
                    }
                }
            ],
            "execution_count": 27
        },
        {
            "cell_type": "markdown",
            "source": [
                "2\\. lekérdezés:"
            ],
            "metadata": {
                "azdata_cell_guid": "1af061da-6614-42d1-a5d0-27b5b2ce5bef"
            },
            "attachments": {}
        },
        {
            "cell_type": "code",
            "source": [
                "SELECT  MIN(LISTAAR) AS 'Minimális ár',\r\n",
                "        MAX(LISTAAR) AS 'Maximális ár',\r\n",
                "        ROUND(AVG(LISTAAR), 2) AS 'Átlag ár',\r\n",
                "        ROUND(STDEV(LISTAAR), 2) AS 'Szórás'\r\n",
                "FROM Termek\r\n",
                "WHERE LISTAAR IS NOT NULL"
            ],
            "metadata": {
                "azdata_cell_guid": "f4984c3a-f9d9-4ae8-9037-f26749e8dd78",
                "language": "sql",
                "tags": []
            },
            "outputs": [
                {
                    "output_type": "display_data",
                    "data": {
                        "text/html": "(1 row affected)"
                    },
                    "metadata": {}
                },
                {
                    "output_type": "display_data",
                    "data": {
                        "text/html": "Total execution time: 00:00:00.699"
                    },
                    "metadata": {}
                },
                {
                    "output_type": "execute_result",
                    "metadata": {},
                    "execution_count": 30,
                    "data": {
                        "application/vnd.dataresource+json": {
                            "schema": {
                                "fields": [
                                    {
                                        "name": "Minimális ár"
                                    },
                                    {
                                        "name": "Maximális ár"
                                    },
                                    {
                                        "name": "Átlag ár"
                                    },
                                    {
                                        "name": "Szórás"
                                    }
                                ]
                            },
                            "data": [
                                {
                                    "Minimális ár": "0",
                                    "Maximális ár": "46000",
                                    "Átlag ár": "786,28",
                                    "Szórás": "3602,48"
                                }
                            ]
                        },
                        "text/html": [
                            "<table>",
                            "<tr><th>Minimális ár</th><th>Maximális ár</th><th>Átlag ár</th><th>Szórás</th></tr>",
                            "<tr><td>0</td><td>46000</td><td>786,28</td><td>3602,48</td></tr>",
                            "</table>"
                        ]
                    }
                }
            ],
            "execution_count": 30
        },
        {
            "cell_type": "markdown",
            "source": [
                "3\\. lekérdezés:"
            ],
            "metadata": {
                "azdata_cell_guid": "c58329fd-80f5-4aef-9191-7c9d059fab1e"
            },
            "attachments": {}
        },
        {
            "cell_type": "code",
            "source": [
                "SELECT  MEGYS,\r\n",
                "        COUNT(MEGYS) AS 'Darabszám'\r\n",
                "FROM termek\r\n",
                "GROUP BY MEGYS\r\n",
                "ORDER BY COUNT(MEGYS) DESC"
            ],
            "metadata": {
                "azdata_cell_guid": "d1afa138-8548-49f9-b6c5-8b1264c63e0a",
                "language": "sql"
            },
            "outputs": [
                {
                    "output_type": "display_data",
                    "data": {
                        "text/html": "(6 rows affected)"
                    },
                    "metadata": {}
                },
                {
                    "output_type": "display_data",
                    "data": {
                        "text/html": "Total execution time: 00:00:00.527"
                    },
                    "metadata": {}
                },
                {
                    "output_type": "execute_result",
                    "metadata": {},
                    "execution_count": 36,
                    "data": {
                        "application/vnd.dataresource+json": {
                            "schema": {
                                "fields": [
                                    {
                                        "name": "MEGYS"
                                    },
                                    {
                                        "name": "Darabszám"
                                    }
                                ]
                            },
                            "data": [
                                {
                                    "MEGYS": "db",
                                    "Darabszám": "483"
                                },
                                {
                                    "MEGYS": "csomag",
                                    "Darabszám": "44"
                                },
                                {
                                    "MEGYS": "ív",
                                    "Darabszám": "21"
                                },
                                {
                                    "MEGYS": "tekercs",
                                    "Darabszám": "1"
                                },
                                {
                                    "MEGYS": "üveg",
                                    "Darabszám": "1"
                                },
                                {
                                    "MEGYS": "doboz",
                                    "Darabszám": "1"
                                }
                            ]
                        },
                        "text/html": [
                            "<table>",
                            "<tr><th>MEGYS</th><th>Darabszám</th></tr>",
                            "<tr><td>db</td><td>483</td></tr>",
                            "<tr><td>csomag</td><td>44</td></tr>",
                            "<tr><td>ív</td><td>21</td></tr>",
                            "<tr><td>tekercs</td><td>1</td></tr>",
                            "<tr><td>üveg</td><td>1</td></tr>",
                            "<tr><td>doboz</td><td>1</td></tr>",
                            "</table>"
                        ]
                    }
                }
            ],
            "execution_count": 36
        },
        {
            "cell_type": "markdown",
            "source": [
                "4\\. lekérdezés:"
            ],
            "metadata": {
                "azdata_cell_guid": "f188a6e9-a4f7-41ee-9593-75cde7b1207a"
            },
            "attachments": {}
        },
        {
            "cell_type": "code",
            "source": [
                "SELECT  FELVITEL AS 'Dátum',\r\n",
                "        COUNT(FELVITEL) AS 'Felvitelek száma'\r\n",
                "FROM termek\r\n",
                "GROUP BY FELVITEL\r\n",
                "ORDER BY COUNT(FELVITEL) DESC"
            ],
            "metadata": {
                "azdata_cell_guid": "ae6c1d97-d457-4a4f-bcab-9bfea06ee050",
                "language": "sql"
            },
            "outputs": [
                {
                    "output_type": "display_data",
                    "data": {
                        "text/html": "(61 rows affected)"
                    },
                    "metadata": {}
                },
                {
                    "output_type": "display_data",
                    "data": {
                        "text/html": "Total execution time: 00:00:01.511"
                    },
                    "metadata": {}
                },
                {
                    "output_type": "execute_result",
                    "metadata": {},
                    "execution_count": 41,
                    "data": {
                        "application/vnd.dataresource+json": {
                            "schema": {
                                "fields": [
                                    {
                                        "name": "Dátum"
                                    },
                                    {
                                        "name": "Felvitelek száma"
                                    }
                                ]
                            },
                            "data": [
                                {
                                    "Dátum": "2016-07-23",
                                    "Felvitelek száma": "33"
                                },
                                {
                                    "Dátum": "2016-07-22",
                                    "Felvitelek száma": "30"
                                },
                                {
                                    "Dátum": "2016-07-21",
                                    "Felvitelek száma": "25"
                                },
                                {
                                    "Dátum": "2016-07-27",
                                    "Felvitelek száma": "20"
                                },
                                {
                                    "Dátum": "2016-07-28",
                                    "Felvitelek száma": "19"
                                },
                                {
                                    "Dátum": "2016-08-13",
                                    "Felvitelek száma": "17"
                                },
                                {
                                    "Dátum": "2016-07-25",
                                    "Felvitelek száma": "15"
                                },
                                {
                                    "Dátum": "2016-07-26",
                                    "Felvitelek száma": "15"
                                },
                                {
                                    "Dátum": "2016-08-01",
                                    "Felvitelek száma": "15"
                                },
                                {
                                    "Dátum": "2016-07-29",
                                    "Felvitelek száma": "14"
                                },
                                {
                                    "Dátum": "2016-07-24",
                                    "Felvitelek száma": "14"
                                },
                                {
                                    "Dátum": "2016-07-14",
                                    "Felvitelek száma": "14"
                                },
                                {
                                    "Dátum": "2016-07-17",
                                    "Felvitelek száma": "13"
                                },
                                {
                                    "Dátum": "2016-07-18",
                                    "Felvitelek száma": "13"
                                },
                                {
                                    "Dátum": "2016-07-19",
                                    "Felvitelek száma": "13"
                                },
                                {
                                    "Dátum": "2016-07-20",
                                    "Felvitelek száma": "13"
                                },
                                {
                                    "Dátum": "2016-08-08",
                                    "Felvitelek száma": "13"
                                },
                                {
                                    "Dátum": "2016-08-09",
                                    "Felvitelek száma": "13"
                                },
                                {
                                    "Dátum": "2016-08-10",
                                    "Felvitelek száma": "13"
                                },
                                {
                                    "Dátum": "2016-08-20",
                                    "Felvitelek száma": "13"
                                },
                                {
                                    "Dátum": "2016-08-11",
                                    "Felvitelek száma": "12"
                                },
                                {
                                    "Dátum": "2016-07-12",
                                    "Felvitelek száma": "12"
                                },
                                {
                                    "Dátum": "2016-07-30",
                                    "Felvitelek száma": "12"
                                },
                                {
                                    "Dátum": "2016-07-11",
                                    "Felvitelek száma": "11"
                                },
                                {
                                    "Dátum": "2016-08-02",
                                    "Felvitelek száma": "11"
                                },
                                {
                                    "Dátum": "2016-08-12",
                                    "Felvitelek száma": "11"
                                },
                                {
                                    "Dátum": "2016-08-06",
                                    "Felvitelek száma": "10"
                                },
                                {
                                    "Dátum": "2016-08-21",
                                    "Felvitelek száma": "9"
                                },
                                {
                                    "Dátum": "2016-08-03",
                                    "Felvitelek száma": "9"
                                },
                                {
                                    "Dátum": "2016-07-15",
                                    "Felvitelek száma": "8"
                                },
                                {
                                    "Dátum": "2016-07-01",
                                    "Felvitelek száma": "8"
                                },
                                {
                                    "Dátum": "2016-07-09",
                                    "Felvitelek száma": "8"
                                },
                                {
                                    "Dátum": "2016-08-17",
                                    "Felvitelek száma": "7"
                                },
                                {
                                    "Dátum": "2016-08-22",
                                    "Felvitelek száma": "6"
                                },
                                {
                                    "Dátum": "2016-08-29",
                                    "Felvitelek száma": "6"
                                },
                                {
                                    "Dátum": "2016-07-10",
                                    "Felvitelek száma": "6"
                                },
                                {
                                    "Dátum": "2016-07-02",
                                    "Felvitelek száma": "6"
                                },
                                {
                                    "Dátum": "2016-07-16",
                                    "Felvitelek száma": "6"
                                },
                                {
                                    "Dátum": "2016-07-13",
                                    "Felvitelek száma": "6"
                                },
                                {
                                    "Dátum": "2016-08-05",
                                    "Felvitelek száma": "5"
                                },
                                {
                                    "Dátum": "2016-07-31",
                                    "Felvitelek száma": "5"
                                },
                                {
                                    "Dátum": "2016-08-26",
                                    "Felvitelek száma": "5"
                                },
                                {
                                    "Dátum": "2016-07-05",
                                    "Felvitelek száma": "4"
                                },
                                {
                                    "Dátum": "2016-07-06",
                                    "Felvitelek száma": "4"
                                },
                                {
                                    "Dátum": "2016-07-07",
                                    "Felvitelek száma": "4"
                                },
                                {
                                    "Dátum": "2016-07-08",
                                    "Felvitelek száma": "3"
                                },
                                {
                                    "Dátum": "2016-08-04",
                                    "Felvitelek száma": "2"
                                },
                                {
                                    "Dátum": "2016-08-19",
                                    "Felvitelek száma": "2"
                                },
                                {
                                    "Dátum": "2016-08-23",
                                    "Felvitelek száma": "2"
                                },
                                {
                                    "Dátum": "2016-08-24",
                                    "Felvitelek száma": "2"
                                },
                                {
                                    "Dátum": "2016-08-25",
                                    "Felvitelek száma": "2"
                                },
                                {
                                    "Dátum": "2016-08-07",
                                    "Felvitelek száma": "2"
                                },
                                {
                                    "Dátum": "2016-08-14",
                                    "Felvitelek száma": "2"
                                },
                                {
                                    "Dátum": "2016-08-15",
                                    "Felvitelek száma": "1"
                                },
                                {
                                    "Dátum": "2016-08-16",
                                    "Felvitelek száma": "1"
                                },
                                {
                                    "Dátum": "2016-08-18",
                                    "Felvitelek száma": "1"
                                },
                                {
                                    "Dátum": "2016-08-27",
                                    "Felvitelek száma": "1"
                                },
                                {
                                    "Dátum": "2016-08-28",
                                    "Felvitelek száma": "1"
                                },
                                {
                                    "Dátum": "2016-09-03",
                                    "Felvitelek száma": "1"
                                },
                                {
                                    "Dátum": "2016-12-11",
                                    "Felvitelek száma": "1"
                                },
                                {
                                    "Dátum": "2016-07-04",
                                    "Felvitelek száma": "1"
                                }
                            ]
                        },
                        "text/html": [
                            "<table>",
                            "<tr><th>Dátum</th><th>Felvitelek száma</th></tr>",
                            "<tr><td>2016-07-23</td><td>33</td></tr>",
                            "<tr><td>2016-07-22</td><td>30</td></tr>",
                            "<tr><td>2016-07-21</td><td>25</td></tr>",
                            "<tr><td>2016-07-27</td><td>20</td></tr>",
                            "<tr><td>2016-07-28</td><td>19</td></tr>",
                            "<tr><td>2016-08-13</td><td>17</td></tr>",
                            "<tr><td>2016-07-25</td><td>15</td></tr>",
                            "<tr><td>2016-07-26</td><td>15</td></tr>",
                            "<tr><td>2016-08-01</td><td>15</td></tr>",
                            "<tr><td>2016-07-29</td><td>14</td></tr>",
                            "<tr><td>2016-07-24</td><td>14</td></tr>",
                            "<tr><td>2016-07-14</td><td>14</td></tr>",
                            "<tr><td>2016-07-17</td><td>13</td></tr>",
                            "<tr><td>2016-07-18</td><td>13</td></tr>",
                            "<tr><td>2016-07-19</td><td>13</td></tr>",
                            "<tr><td>2016-07-20</td><td>13</td></tr>",
                            "<tr><td>2016-08-08</td><td>13</td></tr>",
                            "<tr><td>2016-08-09</td><td>13</td></tr>",
                            "<tr><td>2016-08-10</td><td>13</td></tr>",
                            "<tr><td>2016-08-20</td><td>13</td></tr>",
                            "<tr><td>2016-08-11</td><td>12</td></tr>",
                            "<tr><td>2016-07-12</td><td>12</td></tr>",
                            "<tr><td>2016-07-30</td><td>12</td></tr>",
                            "<tr><td>2016-07-11</td><td>11</td></tr>",
                            "<tr><td>2016-08-02</td><td>11</td></tr>",
                            "<tr><td>2016-08-12</td><td>11</td></tr>",
                            "<tr><td>2016-08-06</td><td>10</td></tr>",
                            "<tr><td>2016-08-21</td><td>9</td></tr>",
                            "<tr><td>2016-08-03</td><td>9</td></tr>",
                            "<tr><td>2016-07-15</td><td>8</td></tr>",
                            "<tr><td>2016-07-01</td><td>8</td></tr>",
                            "<tr><td>2016-07-09</td><td>8</td></tr>",
                            "<tr><td>2016-08-17</td><td>7</td></tr>",
                            "<tr><td>2016-08-22</td><td>6</td></tr>",
                            "<tr><td>2016-08-29</td><td>6</td></tr>",
                            "<tr><td>2016-07-10</td><td>6</td></tr>",
                            "<tr><td>2016-07-02</td><td>6</td></tr>",
                            "<tr><td>2016-07-16</td><td>6</td></tr>",
                            "<tr><td>2016-07-13</td><td>6</td></tr>",
                            "<tr><td>2016-08-05</td><td>5</td></tr>",
                            "<tr><td>2016-07-31</td><td>5</td></tr>",
                            "<tr><td>2016-08-26</td><td>5</td></tr>",
                            "<tr><td>2016-07-05</td><td>4</td></tr>",
                            "<tr><td>2016-07-06</td><td>4</td></tr>",
                            "<tr><td>2016-07-07</td><td>4</td></tr>",
                            "<tr><td>2016-07-08</td><td>3</td></tr>",
                            "<tr><td>2016-08-04</td><td>2</td></tr>",
                            "<tr><td>2016-08-19</td><td>2</td></tr>",
                            "<tr><td>2016-08-23</td><td>2</td></tr>",
                            "<tr><td>2016-08-24</td><td>2</td></tr>",
                            "<tr><td>2016-08-25</td><td>2</td></tr>",
                            "<tr><td>2016-08-07</td><td>2</td></tr>",
                            "<tr><td>2016-08-14</td><td>2</td></tr>",
                            "<tr><td>2016-08-15</td><td>1</td></tr>",
                            "<tr><td>2016-08-16</td><td>1</td></tr>",
                            "<tr><td>2016-08-18</td><td>1</td></tr>",
                            "<tr><td>2016-08-27</td><td>1</td></tr>",
                            "<tr><td>2016-08-28</td><td>1</td></tr>",
                            "<tr><td>2016-09-03</td><td>1</td></tr>",
                            "<tr><td>2016-12-11</td><td>1</td></tr>",
                            "<tr><td>2016-07-04</td><td>1</td></tr>",
                            "</table>"
                        ]
                    }
                }
            ],
            "execution_count": 41
        }
    ]
}